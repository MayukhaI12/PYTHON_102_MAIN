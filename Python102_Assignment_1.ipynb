{
  "nbformat": 4,
  "nbformat_minor": 0,
  "metadata": {
    "colab": {
      "provenance": [],
      "authorship_tag": "ABX9TyMlmo/XXQhx573x/o0Lkfhf",
      "include_colab_link": true
    },
    "kernelspec": {
      "name": "python3",
      "display_name": "Python 3"
    },
    "language_info": {
      "name": "python"
    }
  },
  "cells": [
    {
      "cell_type": "markdown",
      "metadata": {
        "id": "view-in-github",
        "colab_type": "text"
      },
      "source": [
        "<a href=\"https://colab.research.google.com/github/MayukhaI12/python102/blob/main/Python102_Assignment_1.ipynb\" target=\"_parent\"><img src=\"https://colab.research.google.com/assets/colab-badge.svg\" alt=\"Open In Colab\"/></a>"
      ]
    },
    {
      "cell_type": "code",
      "execution_count": 21,
      "metadata": {
        "colab": {
          "base_uri": "https://localhost:8080/"
        },
        "id": "BAxyJ4qpZs3j",
        "outputId": "c2d203a1-4ea0-4a6a-dc44-eb86a281c3df"
      },
      "outputs": [
        {
          "output_type": "stream",
          "name": "stdout",
          "text": [
            "python ['y', 't', 'n', 'o', 'p', 'h'] True\n",
            "python ['y', 'q', 'n', 'o', 'p', 'h'] False\n",
            "program ['y', 'q', 'n', 'o', 'p', 'h'] False\n",
            "program ['p', 'm', 'r', 'o', 'g', 'a'] True\n"
          ]
        }
      ],
      "source": [
        "# Finish the implementation of is_word_guessed method in MIT project.\n",
        "def is_word_guessed(secret_word, letters_guessed):\n",
        "  secret_word_list = []\n",
        "  for elem in secret_word:\n",
        "    secret_word_list.append(str(elem))\n",
        "\n",
        "  for elem in letters_guessed:\n",
        "    if elem in secret_word_list:\n",
        "      x = True\n",
        "    elif elem not in secret_word_list:\n",
        "      return False\n",
        "  return x\n",
        "\n",
        "  '''\n",
        "    secret_word: string, the word the user is guessing; assumes all letters are\n",
        "      lowercase\n",
        "    letters_guessed: list (of letters), which letters have been guessed so far;\n",
        "      assumes that all letters are lowercase\n",
        "    returns: boolean, True if all the letters of secret_word are in letters_guessed;\n",
        "      False otherwise\n",
        "  '''\n",
        "\n",
        "# Test the method - True\n",
        "secret_word = 'python'\n",
        "letters_guessed = ['y', 't', 'n', 'o', 'p', 'h']\n",
        "x = is_word_guessed(secret_word, letters_guessed)\n",
        "print(secret_word, letters_guessed, x)\n",
        "\n",
        "# Test the method - False\n",
        "secret_word = 'python'\n",
        "letters_guessed = ['y', 'q', 'n', 'o', 'p', 'h']\n",
        "x = is_word_guessed(secret_word, letters_guessed)\n",
        "print(secret_word, letters_guessed, x)\n",
        "\n",
        "\n",
        "# Test the method - False\n",
        "secret_word = 'program'\n",
        "letters_guessed = ['y', 'q', 'n', 'o', 'p', 'h']\n",
        "x = is_word_guessed(secret_word, letters_guessed)\n",
        "print(secret_word, letters_guessed, x)\n",
        "\n",
        "\n",
        "# Test the method - True\n",
        "secret_word = 'program'\n",
        "letters_guessed = ['p', 'm', 'r', 'o', 'g', 'a']\n",
        "x = is_word_guessed(secret_word, letters_guessed)\n",
        "print(secret_word, letters_guessed, x)"
      ]
    }
  ]
}