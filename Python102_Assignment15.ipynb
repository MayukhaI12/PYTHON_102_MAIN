{
  "nbformat": 4,
  "nbformat_minor": 0,
  "metadata": {
    "colab": {
      "provenance": []
    },
    "kernelspec": {
      "name": "python3",
      "display_name": "Python 3"
    },
    "language_info": {
      "name": "python"
    }
  },
  "cells": [
    {
      "cell_type": "markdown",
      "source": [
        "###**What do you want to be when you grow up?**\n",
        "\n",
        "> I'd like to pursue a career in ecology when I grow up.\n",
        "\n",
        "---\n",
        "---\n",
        "\n",
        "###**How does computers / python programming help you in that profession?**\n",
        "\n",
        "Below are some of the ways computers would help ecologists.\n",
        "\n",
        "> **Remote sensing:** Satellites and drones equipped with sensors collect vast amounts of data about ecosystems, including land cover, vegetation health, and animal movement. Computers analyze this data to uncover patterns and trends.\n",
        "\n",
        "> **Automated data collection:** Sensors deployed in the field can continuously monitor environmental factors like temperature, light, and water quality. Computers record and analyze this data, reducing manual labor and providing real-time insights.\n",
        "\n",
        "> **Image analysis:** Cameras and camera traps capture images of animals and plants. Computer vision algorithms can automatically identify species, count individuals, and track their movements.\n",
        "\n",
        "> **Statistical analysis:** Computers handle complex statistical analyses on large datasets, helping ecologists test hypotheses, model relationships, and identify significant correlations.\n",
        "\n",
        "---\n",
        "---\n",
        "\n",
        "###**Python can help ecologists in Data Wrangling and Analysis:**\n",
        "\n",
        "> **Efficient data handling:** Libraries like Pandas excel at loading, cleaning, manipulating, and analyzing large ecological datasets from diverse sources (sensor data, field observations, remote sensing images).\n",
        "\n",
        "> **Statistical analysis:** Libraries like SciPy and Statsmodels provide a vast array of statistical tests and techniques for analyzing ecological data, from basic descriptives to complex regressions and time series analysis.\n",
        "\n",
        "> **Data visualization:** Libraries like Matplotlib and Seaborn create informative and aesthetically pleasing visualizations of ecological data, helping ecologists identify patterns and trends.\n",
        "\n",
        "---\n",
        "---\n",
        "\n",
        "###**Are there any libraries (python libraries) that can help you in your profession?**\n",
        "\n",
        "> Pandas Python Library helps ecologists in doing data analysis."
      ],
      "metadata": {
        "id": "D9Xa1BclJmlQ"
      }
    },
    {
      "cell_type": "markdown",
      "source": [
        "###**Can you explore that package (import, dir()) to see the capabilities (methods) offered by that library?**\n",
        "\n",
        "1) Import Pandas:\n",
        "\n",
        "2) Create Data Structures\n",
        "\n",
        "3) DataFrame (two-dimensional)\n",
        "\n",
        "* Load Data from Files\n",
        "\n",
        "4) Explore and Describe Data:\n",
        "\n",
        "* Check basic information\n",
        "\n",
        "5) Inspect specific elements\n",
        "\n",
        "* Select, Filter, and Manipulate Data:\n",
        "\n",
        "6) Select columns\n",
        "\n",
        "7) Filter rows\n",
        "\n",
        "8) Create new columns\n",
        "\n",
        "* Clean and Prepare Data:\n",
        "\n",
        "9) Handle missing values\n",
        "\n",
        "10) Convert data types\n",
        "\n",
        "* Group and Aggregate Data\n",
        "\n",
        "11) Organize data by groups and calculate statistics"
      ],
      "metadata": {
        "id": "iET_1RrHQgEi"
      }
    },
    {
      "cell_type": "code",
      "execution_count": null,
      "metadata": {
        "colab": {
          "base_uri": "https://localhost:8080/"
        },
        "id": "TH_nnYxLJj-1",
        "outputId": "f0ba224d-b5eb-4b17-8f39-1aea6fda370c"
      },
      "outputs": [
        {
          "output_type": "stream",
          "name": "stdout",
          "text": [
            "Jan    25\n",
            "Feb    18\n",
            "Mar    32\n",
            "Apr    27\n",
            "dtype: int64\n",
            "\n",
            "  bird_species   habitat  count\n",
            "0        Robin    Forest     10\n",
            "1      Sparrow     Urban     25\n",
            "2     Blue Jay    Forest      8\n",
            "3     Cardinal  Backyard     12\n"
          ]
        }
      ],
      "source": [
        "##---Can you write a sample program to explore those methods?---##\n",
        "\n",
        "#Importing Pandas library\n",
        "import pandas as pd\n",
        "\n",
        "# Create Sample one - Dimensional Data Structure\n",
        "temperatures = pd.Series([25, 18, 32, 27], index=['Jan', 'Feb', 'Mar', 'Apr'])\n",
        "print(temperatures)\n",
        "# Create Sample two dimensional data structure\n",
        "birds = pd.DataFrame({\n",
        "    'bird_species': ['Robin', 'Sparrow', 'Blue Jay', 'Cardinal'],\n",
        "    'habitat': ['Forest', 'Urban', 'Forest', 'Backyard'],\n",
        "    'count': [10, 25, 8, 12]\n",
        "})\n",
        "print()\n",
        "print(birds)"
      ]
    }
  ]
}