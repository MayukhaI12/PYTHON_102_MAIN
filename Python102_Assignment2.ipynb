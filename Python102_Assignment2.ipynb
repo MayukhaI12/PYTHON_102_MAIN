{
  "nbformat": 4,
  "nbformat_minor": 0,
  "metadata": {
    "colab": {
      "provenance": [],
      "authorship_tag": "ABX9TyO2OL7z/leHXHjrEjvqQ/vE",
      "include_colab_link": true
    },
    "kernelspec": {
      "name": "python3",
      "display_name": "Python 3"
    },
    "language_info": {
      "name": "python"
    }
  },
  "cells": [
    {
      "cell_type": "markdown",
      "metadata": {
        "id": "view-in-github",
        "colab_type": "text"
      },
      "source": [
        "<a href=\"https://colab.research.google.com/github/MayukhaI12/python102/blob/main/Python102_Assignment2.ipynb\" target=\"_parent\"><img src=\"https://colab.research.google.com/assets/colab-badge.svg\" alt=\"Open In Colab\"/></a>"
      ]
    },
    {
      "cell_type": "code",
      "execution_count": 1,
      "metadata": {
        "colab": {
          "base_uri": "https://localhost:8080/"
        },
        "id": "nnW-GTPOZBZb",
        "outputId": "03b5db7b-d73b-47d9-8882-dc86f75e4e17"
      },
      "outputs": [
        {
          "output_type": "stream",
          "name": "stdout",
          "text": [
            "The secret phrase is: c_m____r\n",
            "The secret phrase is: _pr__ramm___\n",
            "The secret phrase is: am_r_ca\n",
            "\n",
            "The available letters are: defghijklmnopqrstuvwxyz\n",
            "The available letters are: abcdefghijklmnostuvwxyz\n",
            "The available letters are: acdefghijklmnpqrstuvwyz\n"
          ]
        }
      ],
      "source": [
        "'''\n",
        "--> hangman.py starter code\n",
        "Implement these two methods\n",
        "Get started on main hangman() method\n",
        "'''\n",
        "\n",
        "def get_guessed_word(secret_word, letters_guessed):\n",
        "    string = \"\"\n",
        "    for i in secret_word:\n",
        "        if i in letters_guessed:\n",
        "            string += i\n",
        "        else:\n",
        "            string += \"_\"\n",
        "    return string\n",
        "\n",
        "def get_available_letters(letters_guessed):\n",
        "    string = \"abcdefghijklmnopqrstuvwxyz\"\n",
        "    temp = \"\"\n",
        "    for i in string:\n",
        "        if i not in letters_guessed:\n",
        "            temp += i\n",
        "    return temp\n",
        "\n",
        "#Testing of get_guessed_word(my_word, guesses)\n",
        "# calling the function: test case 1\n",
        "my_word = 'computer'\n",
        "guesses = ['c', 'w', 'm', 'r']\n",
        "secret_phrase = get_guessed_word(my_word, guesses)\n",
        "print(\"The secret phrase is:\",secret_phrase)  # 'c_m____r'\n",
        "\n",
        "my_word = ' programming'\n",
        "guesses = ['c', 'p', 'm', 'a', 'r']\n",
        "secret_phrase = get_guessed_word(my_word, guesses)\n",
        "print(\"The secret phrase is:\",secret_phrase)  # 'pr__ramm___'\n",
        "\n",
        "my_word = 'america'\n",
        "guesses = ['c', 'p', 'm', 'a', 'r']\n",
        "secret_phrase = get_guessed_word(my_word, guesses)\n",
        "print(\"The secret phrase is:\",secret_phrase)  # 'am_r_ca'\n",
        "\n",
        "print()\n",
        "\n",
        "#Testing of get_available_letters(letters_guessed):\n",
        "str_1 = get_available_letters(['a', 'b', 'c'])\n",
        "print(\"The available letters are:\",str_1)  # \"def...z\"\n",
        "\n",
        "str_1 = get_available_letters(['p', 'q', 'r'])\n",
        "print(\"The available letters are:\",str_1)  # \"abc... z\" (everything except p,q,r)\n",
        "\n",
        "str_1 = get_available_letters(['b', 'o', 'x'])\n",
        "print(\"The available letters are:\",str_1)  # \"ac... z\" (everything except b,o,x)"
      ]
    }
  ]
}